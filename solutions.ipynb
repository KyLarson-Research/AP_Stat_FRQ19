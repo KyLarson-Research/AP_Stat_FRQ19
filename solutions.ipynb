{
 "cells": [
  {
   "cell_type": "code",
   "execution_count": 7,
   "id": "c5a31d3c",
   "metadata": {},
   "outputs": [],
   "source": [
    "#filename: solutions.ipynb\n",
    "#Author: Kyle C Larson\n",
    "#The distribution has two modes, it is bimodal. \n",
    "#The distribution is roughly symmetrical with very slight left skew and almost no tails. \n",
    "#There does not appear to be any outliers.\n",
    "import pandas as pd\n",
    "import seaborn as sns\n",
    "import numpy as np\n",
    "import seaborn as sns\n",
    "import matplotlib.pyplot as plt\n",
    "def histogram_boxplot(feature, figsize=(15, 10), bins=None):\n",
    "    \"\"\"Boxplot and histogram combined\n",
    "    feature: 1-d feature array\n",
    "    figsize: size of fig (default (9,8))\n",
    "    bins: number of bins (default None / auto)\n",
    "    \"\"\"\n",
    "    f2, (ax_box2, ax_hist2) = plt.subplots(\n",
    "        nrows=2,  # Number of rows of the subplot grid= 2\n",
    "        sharex=True,  # x-axis will be shared among all subplots\n",
    "        gridspec_kw={\"height_ratios\": (0.25, 0.75)},\n",
    "        figsize=figsize,\n",
    "    )  # creating the 2 subplots\n",
    "    sns.boxplot(\n",
    "        feature, ax=ax_box2, showmeans=True, color=\"violet\"\n",
    "    )  # boxplot will be created and a star will indicate the mean value of the column\n",
    "    sns.distplot(\n",
    "        feature, kde=False, ax=ax_hist2, bins=bins, color=\"black\"\n",
    "    ) if bins else sns.distplot(\n",
    "        feature, kde=False, ax=ax_hist2, color=\"tab:blue\"\n",
    "    )  # For histogram\n",
    "    ax_hist2.axvline(\n",
    "        np.mean(feature), color=\"purple\", linestyle=\"--\"\n",
    "    )  # Add mean to the histogram\n",
    "    ax_hist2.axvline(\n",
    "        np.median(feature), color=\"black\", linestyle=\"-\"\n",
    "    )  # Add median to the histogram"
   ]
  },
  {
   "cell_type": "code",
   "execution_count": 8,
   "id": "727aa7d8",
   "metadata": {},
   "outputs": [
    {
     "name": "stderr",
     "output_type": "stream",
     "text": [
      "/home/s/anaconda3/lib/python3.8/site-packages/seaborn/_decorators.py:36: FutureWarning: Pass the following variable as a keyword arg: x. From version 0.12, the only valid positional argument will be `data`, and passing other arguments without an explicit keyword will result in an error or misinterpretation.\n",
      "  warnings.warn(\n",
      "/home/s/anaconda3/lib/python3.8/site-packages/seaborn/distributions.py:2557: FutureWarning: `distplot` is a deprecated function and will be removed in a future version. Please adapt your code to use either `displot` (a figure-level function with similar flexibility) or `histplot` (an axes-level function for histograms).\n",
      "  warnings.warn(msg, FutureWarning)\n"
     ]
    },
    {
     "data": {
      "image/png": "[encoded data removed]",
      "text/plain": [
       "<Figure size 1080x720 with 2 Axes>"
      ]
     },
     "metadata": {
      "needs_background": "light"
     },
     "output_type": "display_data"
    }
   ],
   "source": [
    "#faking some data\n",
    "data = [100,125,125,175,175,175,175,175,175,225,275,275,275,275,275,275,275,325,325,350]\n",
    "room_sqft_df = pd.DataFrame(data)\n",
    "histogram_boxplot(room_sqft_df[0], bins=5)"
   ]
  },
  {
   "cell_type": "code",
   "execution_count": null,
   "id": "ba245a16",
   "metadata": {},
   "outputs": [],
   "source": [
    "#The characteristic of the shape that is apparent from the histogram, \n",
    "#but not the boxplot is the prescence of the two modes."
   ]
  },
  {
   "cell_type": "code",
   "execution_count": null,
   "id": "0fc62dc9",
   "metadata": {},
   "outputs": [],
   "source": [
    "#Problem 2 -\n",
    "#Treatment : The ammount of fungus mixture\n",
    "#Experimental Unit : Container\n",
    "#Response Variable : Number of Insects Alive\n",
    "\n",
    "#The experiment does have a control group if it can be assumed that the mixture \n",
    "#which contains zero fungus contains a substance which would have the same \n",
    "#effect as not spraying the insects in the first place. \n",
    "\n",
    "#The treatments can be randomly assigned by shuffling the numbers 1 to 20\n",
    "#using a software/TI84 or by drawing 20 numbered tickets from a hat\n",
    "#or by drawing black cards (clubs as teens) from a shuffled 52-card deck \n",
    "#treating aces as ones.\n",
    "#Each cup's number will be divided by 4 and the remainder of the operation \n",
    "#used to identify the cup as 0,1,2, or 3. 0 is treatment 1, 1 treatment 2 \n",
    "#and so forth.\n"
   ]
  },
  {
   "cell_type": "code",
   "execution_count": 9,
   "id": "befb7358",
   "metadata": {},
   "outputs": [
    {
     "data": {
      "text/html": [
       "<div>\n",
       "<style scoped>\n",
       "    .dataframe tbody tr th:only-of-type {\n",
       "        vertical-align: middle;\n",
       "    }\n",
       "\n",
       "    .dataframe tbody tr th {\n",
       "        vertical-align: top;\n",
       "    }\n",
       "\n",
       "    .dataframe thead th {\n",
       "        text-align: right;\n",
       "    }\n",
       "</style>\n",
       "<table border=\"1\" class=\"dataframe\">\n",
       "  <thead>\n",
       "    <tr style=\"text-align: right;\">\n",
       "      <th></th>\n",
       "      <th>Sex</th>\n",
       "      <th>Never</th>\n",
       "      <th>Sometimes</th>\n",
       "      <th>Always</th>\n",
       "      <th>Total</th>\n",
       "    </tr>\n",
       "  </thead>\n",
       "  <tbody>\n",
       "    <tr>\n",
       "      <th>0</th>\n",
       "      <td>Men</td>\n",
       "      <td>0.0564</td>\n",
       "      <td>0.2016</td>\n",
       "      <td>0.212</td>\n",
       "      <td>0.47</td>\n",
       "    </tr>\n",
       "    <tr>\n",
       "      <th>1</th>\n",
       "      <td>Women</td>\n",
       "      <td>0.0636</td>\n",
       "      <td>0.1384</td>\n",
       "      <td>0.328</td>\n",
       "      <td>0.53</td>\n",
       "    </tr>\n",
       "    <tr>\n",
       "      <th>2</th>\n",
       "      <td>Total</td>\n",
       "      <td>0.1200</td>\n",
       "      <td>0.3400</td>\n",
       "      <td>0.540</td>\n",
       "      <td>1.00</td>\n",
       "    </tr>\n",
       "  </tbody>\n",
       "</table>\n",
       "</div>"
      ],
      "text/plain": [
       "     Sex   Never  Sometimes  Always  Total\n",
       "0    Men  0.0564     0.2016   0.212   0.47\n",
       "1  Women  0.0636     0.1384   0.328   0.53\n",
       "2  Total  0.1200     0.3400   0.540   1.00"
      ]
     },
     "execution_count": 9,
     "metadata": {},
     "output_type": "execute_result"
    }
   ],
   "source": [
    "problem_3_med_prescribed = {\"Sex\":[\"Men\",\"Women\",\"Total\"],\"Never\":[.0564,.0636,.12],\"Sometimes\":[.2016,.1384,.34],\"Always\":[.2120,.3280,.54],\"Total\":[.47,.53,1]}\n",
    "med_taken_as_prescribed_df = pd.DataFrame(problem_3_med_prescribed)\n",
    "med_taken_as_prescribed_df.head()"
   ]
  },
  {
   "cell_type": "code",
   "execution_count": 13,
   "id": "81f208c5",
   "metadata": {},
   "outputs": [
    {
     "data": {
      "text/plain": [
       "0.0636"
      ]
     },
     "execution_count": 13,
     "metadata": {},
     "output_type": "execute_result"
    }
   ],
   "source": [
    "#never and woman\n",
    "problem_3_med_prescribed['Never'][1]"
   ]
  },
  {
   "cell_type": "code",
   "execution_count": 28,
   "id": "e9569c25",
   "metadata": {},
   "outputs": [],
   "source": [
    "#Never + Women - NeverAndWomen"
   ]
  },
  {
   "cell_type": "code",
   "execution_count": 27,
   "id": "ca9f4658",
   "metadata": {},
   "outputs": [
    {
     "data": {
      "text/plain": [
       "0.5864"
      ]
     },
     "execution_count": 27,
     "metadata": {},
     "output_type": "execute_result"
    }
   ],
   "source": [
    "med_taken_as_prescribed_df['Never'][2]+med_taken_as_prescribed_df.iloc[1]['Total']-problem_3_med_prescribed['Never'][1]"
   ]
  },
  {
   "cell_type": "code",
   "execution_count": 30,
   "id": "27f1989c",
   "metadata": {},
   "outputs": [
    {
     "data": {
      "text/plain": [
       "0.12"
      ]
     },
     "execution_count": 30,
     "metadata": {},
     "output_type": "execute_result"
    }
   ],
   "source": [
    "#AandB/B\n",
    "problem_3_med_prescribed['Never'][1]/med_taken_as_prescribed_df['Total'][1]"
   ]
  },
  {
   "cell_type": "code",
   "execution_count": 31,
   "id": "ef0476cb",
   "metadata": {},
   "outputs": [
    {
     "data": {
      "text/plain": [
       "0.0636"
      ]
     },
     "execution_count": 31,
     "metadata": {},
     "output_type": "execute_result"
    }
   ],
   "source": [
    "# If they were independent then never&woman would equal Never*Woman\n",
    "med_taken_as_prescribed_df['Never'][2]*med_taken_as_prescribed_df.iloc[1]['Total']\n",
    "#Therefore, they are independent"
   ]
  },
  {
   "cell_type": "code",
   "execution_count": 33,
   "id": "19583014",
   "metadata": {},
   "outputs": [
    {
     "data": {
      "text/plain": [
       "0.19557028800000004"
      ]
     },
     "execution_count": 33,
     "metadata": {},
     "output_type": "execute_result"
    }
   ],
   "source": [
    "# \n",
    "from math import comb\n",
    "p = .54\n",
    "n = 5\n",
    "x = 4\n",
    "comb(n,x)*(p**(x))*((1-p)**(n-x))"
   ]
  },
  {
   "cell_type": "code",
   "execution_count": 38,
   "id": "606bb2e4",
   "metadata": {},
   "outputs": [
    {
     "name": "stdout",
     "output_type": "stream",
     "text": [
      "sigmas 1 and 2:9.649651\n",
      "12.3123\n",
      "stat86.99522112034306\n",
      "df=111\n",
      "crit 1136.591071225135\n",
      "crit 287.68075486394508\n"
     ]
    }
   ],
   "source": [
    "#PROBLEM 4 2 prop z\n",
    "#assumptions:\n",
    "#indeptendent random samples\n",
    "#normality\n",
    "p0 = .197\n",
    "n0 = 61\n",
    "p1 = .385\n",
    "n1 = 52\n",
    "sig2_0 = p0*(1-p0)*n0\n",
    "sig2_1 = p1*(1-p1)*n1\n",
    "print(\"sigmas 1 and 2:\"+str(sig2_0))\n",
    "print(sig2_1)\n",
    "T = (n0+n1-2)*(sig2_0 / sig2_1)\n",
    "print(\"stat\"+str(T))\n",
    "print(\"df=\"+str(n0+n1-2))\n",
    "#Critical values are alpha.05/2\n",
    "import scipy.stats\n",
    "\n",
    "#find Chi-Square critical value\n",
    "print(\"crit 1\"+str(scipy.stats.chi2.ppf(1-.05, df=n0+n1-2)))\n",
    "print(\"crit 2\"+str(scipy.stats.chi2.ppf(.05, df=n0+n1-2)))\n",
    "\n",
    "#86 is outside therefore variances are not equal, we reject the null and cannot pool standard error"
   ]
  },
  {
   "cell_type": "code",
   "execution_count": 39,
   "id": "8c7a1ed9",
   "metadata": {},
   "outputs": [
    {
     "name": "stdout",
     "output_type": "stream",
     "text": [
      "stat\n",
      "2.223854014666162\n",
      "crit\n",
      "1.645\n"
     ]
    }
   ],
   "source": [
    "sig = (p0*(1-p0)/n0+p1*(1-p1)/n1)**.5\n",
    "Zstat = (p1-p0)/sig\n",
    "Zcrit = 1.645\n",
    "print(\"stat\")\n",
    "print(Zstat)\n",
    "print(\"crit\")\n",
    "print(Zcrit)\n",
    "#There was an increase in resistance, Zstat>Zcrit reject"
   ]
  },
  {
   "cell_type": "code",
   "execution_count": null,
   "id": "953fa9c6",
   "metadata": {},
   "outputs": [],
   "source": []
  }
 ],
 "metadata": {
  "kernelspec": {
   "display_name": "Python 3",
   "language": "python",
   "name": "python3"
  },
  "language_info": {
   "codemirror_mode": {
    "name": "ipython",
    "version": 3
   },
   "file_extension": ".py",
   "mimetype": "text/x-python",
   "name": "python",
   "nbconvert_exporter": "python",
   "pygments_lexer": "ipython3",
   "version": "3.8.8"
  }
 },
 "nbformat": 4,
 "nbformat_minor": 5
}
